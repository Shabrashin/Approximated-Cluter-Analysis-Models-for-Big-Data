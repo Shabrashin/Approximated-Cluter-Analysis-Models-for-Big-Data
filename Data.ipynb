{
  "nbformat": 4,
  "nbformat_minor": 0,
  "metadata": {
    "colab": {
      "name": "Data.ipynb",
      "provenance": [],
      "collapsed_sections": []
    },
    "kernelspec": {
      "name": "python3",
      "display_name": "Python 3"
    }
  },
  "cells": [
    {
      "cell_type": "markdown",
      "metadata": {
        "id": "91EDTb_qLkuv",
        "colab_type": "text"
      },
      "source": [
        "**Разрешение на скачивание больших данных**"
      ]
    },
    {
      "cell_type": "code",
      "metadata": {
        "id": "vmFm6g0h2klb",
        "colab_type": "code",
        "colab": {}
      },
      "source": [
        "import os\n",
        "from pydrive.auth import GoogleAuth\n",
        "from pydrive.drive import GoogleDrive\n",
        "from google.colab import auth\n",
        "from oauth2client.client import GoogleCredentials\n",
        "\n",
        "auth.authenticate_user()\n",
        "gauth = GoogleAuth()\n",
        "gauth.credentials = GoogleCredentials.get_application_default()\n",
        "drive = GoogleDrive(gauth)"
      ],
      "execution_count": 0,
      "outputs": []
    },
    {
      "cell_type": "markdown",
      "metadata": {
        "id": "FfveK4L82mDw",
        "colab_type": "text"
      },
      "source": [
        "**Библитеки**"
      ]
    },
    {
      "cell_type": "code",
      "metadata": {
        "id": "nZKdXkEEDJpN",
        "colab_type": "code",
        "colab": {}
      },
      "source": [
        "import pandas as pd\n",
        "import numpy as np\n",
        "import zipfile\n",
        "import random"
      ],
      "execution_count": 0,
      "outputs": []
    },
    {
      "cell_type": "markdown",
      "metadata": {
        "id": "3Tdvzp1pLoFs",
        "colab_type": "text"
      },
      "source": [
        "**Функции создания рандомного массивов**\n"
      ]
    },
    {
      "cell_type": "code",
      "metadata": {
        "id": "ClIx2X2IAisZ",
        "colab_type": "code",
        "colab": {}
      },
      "source": [
        "def random_array(n):\n",
        "  a = np.array([random.random() * 10000 for i in range(n)])\n",
        "  return a\n",
        "\n",
        "def random_data(n):\n",
        "  data = np.array([random_array(n) for i in range(10000)])\n",
        "  return data\n"
      ],
      "execution_count": 0,
      "outputs": []
    },
    {
      "cell_type": "markdown",
      "metadata": {
        "id": "2MHO32QaLs2z",
        "colab_type": "text"
      },
      "source": [
        "**Генерация массивов с 5 признаками**"
      ]
    },
    {
      "cell_type": "code",
      "metadata": {
        "id": "nkce8rFII0u0",
        "colab_type": "code",
        "colab": {}
      },
      "source": [
        "np.savez('5_feature_300')\n",
        "\n",
        "f = zipfile.ZipFile('5_feature_1000.npz', mode='a')\n",
        "\n",
        "for i in range(300):\n",
        "  c = random_data()\n",
        "  name = \"arr_\" + str(i) + \".npy\"\n",
        "  np.save(name, c)\n",
        "  f.write(name)\n",
        "  os.remove(name)\n",
        "f.close()\n"
      ],
      "execution_count": 0,
      "outputs": []
    },
    {
      "cell_type": "markdown",
      "metadata": {
        "id": "gM0bojmhmWLu",
        "colab_type": "text"
      },
      "source": [
        "**Генерация массивов с 7 признаками**"
      ]
    },
    {
      "cell_type": "code",
      "metadata": {
        "id": "-IF3R0HkmVgx",
        "colab_type": "code",
        "colab": {}
      },
      "source": [
        "np.savez('7_feature_1000')\n",
        "\n",
        "f = zipfile.ZipFile('7_feature_1000.npz', mode='a')\n",
        "\n",
        "for i in range(1000):\n",
        "  c = random_data(7)\n",
        "  name = \"arr_\" + str(i) + \".npy\"\n",
        "  np.save(name, c)\n",
        "  f.write(name)\n",
        "  os.remove(name)\n",
        "f.close()"
      ],
      "execution_count": 0,
      "outputs": []
    },
    {
      "cell_type": "markdown",
      "metadata": {
        "id": "MGJIkedH3AMI",
        "colab_type": "text"
      },
      "source": [
        "**Узнать размер файла**"
      ]
    },
    {
      "cell_type": "code",
      "metadata": {
        "id": "UwAszWpr2_SB",
        "colab_type": "code",
        "colab": {}
      },
      "source": [
        "def convert_bytes(num):\n",
        "    \"\"\"\n",
        "    this function will convert bytes to MB.... GB... etc\n",
        "    \"\"\"\n",
        "    for x in ['bytes', 'KB', 'MB', 'GB', 'TB']:\n",
        "        if num < 1024.0:\n",
        "            return \"%3.1f %s\" % (num, x)\n",
        "        num /= 1024.0\n",
        "\n",
        "\n",
        "def file_size(file_path):\n",
        "    \"\"\"\n",
        "    this function will return the file size\n",
        "    \"\"\"\n",
        "    if os.path.isfile(file_path):\n",
        "        file_info = os.stat(file_path)\n",
        "        return convert_bytes(file_info.st_size)\n",
        "\n",
        "\n",
        "# Lets check the file size of MS Paint exe \n",
        "# or you can use any file path\n",
        "file_path = '5_feature_1000.npz'\n",
        "print(file_size(file_path))"
      ],
      "execution_count": 0,
      "outputs": []
    }
  ]
}