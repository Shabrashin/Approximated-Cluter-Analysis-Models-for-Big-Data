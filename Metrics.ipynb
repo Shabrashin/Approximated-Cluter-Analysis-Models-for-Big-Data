{
  "nbformat": 4,
  "nbformat_minor": 0,
  "metadata": {
    "colab": {
      "name": "Metrics.ipynb",
      "provenance": [],
      "collapsed_sections": []
    },
    "kernelspec": {
      "name": "python3",
      "display_name": "Python 3"
    }
  },
  "cells": [
    {
      "cell_type": "code",
      "metadata": {
        "id": "yqbFCH1sDb2m",
        "colab_type": "code",
        "colab": {}
      },
      "source": [
        "import pandas as pd\n",
        "import numpy as np\n",
        "import zipfile\n",
        "import random\n",
        "from google.colab import files\n",
        "import math"
      ],
      "execution_count": 0,
      "outputs": []
    },
    {
      "cell_type": "code",
      "metadata": {
        "id": "zH3nqJ_8Bf2e",
        "colab_type": "code",
        "colab": {}
      },
      "source": [
        "import os\n",
        "from pydrive.auth import GoogleAuth\n",
        "from pydrive.drive import GoogleDrive\n",
        "from google.colab import auth\n",
        "from oauth2client.client import GoogleCredentials\n",
        "\n",
        "auth.authenticate_user()\n",
        "gauth = GoogleAuth()\n",
        "gauth.credentials = GoogleCredentials.get_application_default()\n",
        "drive = GoogleDrive(gauth)"
      ],
      "execution_count": 0,
      "outputs": []
    },
    {
      "cell_type": "markdown",
      "metadata": {
        "id": "jTdUJ1Rjc6G6",
        "colab_type": "text"
      },
      "source": [
        "**Download 5 feature data**"
      ]
    },
    {
      "cell_type": "code",
      "metadata": {
        "id": "WpHZvVlFDBzh",
        "colab_type": "code",
        "colab": {}
      },
      "source": [
        "data_all = np.load(\"/content/drive/My Drive/5_feature_300.npz\", allow_pickle=True)\n",
        "data_1 = data_all['arr_0']"
      ],
      "execution_count": 0,
      "outputs": []
    },
    {
      "cell_type": "code",
      "metadata": {
        "id": "n19KVVPIHT0L",
        "colab_type": "code",
        "colab": {}
      },
      "source": [
        "def convert_to_v(data): #меняет один элемент\n",
        "  v = [0] * (len(data) - 1)\n",
        "  for i in range(len(data) - 1):\n",
        "    k = data[i + 1] - data[i]\n",
        "    b = (i + 1) * data[i] - i * data[i+1]\n",
        "    v[i] = k\n",
        "  return v\n",
        "\n",
        "def mean_cluster(cl): #массив с индексами\n",
        "  n = 5-1 #number of features\n",
        "  a = [0] * n\n",
        "  for i in range(len(cl)):\n",
        "    for j in range(len(a)):\n",
        "      a[j] += data[cl[i]][j]\n",
        "  ans = [a[i] / len(cl) for i in range(n)]\n",
        "  return ans\n",
        "\n",
        "def mean_cluster_1(cl): #массив с индексами\n",
        "  n = 5 #number of features\n",
        "  a = [0] * n\n",
        "  for i in range(len(cl)):\n",
        "    for j in range(len(a)):\n",
        "      a[j] += data_1[cl[i]][j]\n",
        "  ans = [a[i] / len(cl) for i in range(n)]\n",
        "  return ans\n",
        "\n",
        "def error(v1, v2):\n",
        "  d = 0\n",
        "  for i in range(len(v1)):\n",
        "    d += (v1[i] - v2[i]) ** 2\n",
        "  return d\n",
        "\n",
        "def sse(mean, clstr):\n",
        "  err = 0\n",
        "  for i in range(len(clstr)):\n",
        "    err += error(mean, data[clstr[i]])\n",
        "#  return err/len(clstr)\n",
        "  return err"
      ],
      "execution_count": 0,
      "outputs": []
    },
    {
      "cell_type": "markdown",
      "metadata": {
        "id": "SQSqDb5xdCjl",
        "colab_type": "text"
      },
      "source": [
        "**Download results of clustering 5 feature**"
      ]
    },
    {
      "cell_type": "code",
      "metadata": {
        "id": "h-Dq4kGdThfP",
        "colab_type": "code",
        "colab": {}
      },
      "source": [
        "sse_calc = [[0, 0] for i in range(300)]"
      ],
      "execution_count": 0,
      "outputs": []
    },
    {
      "cell_type": "code",
      "metadata": {
        "id": "6JjLXXrhwLV2",
        "colab_type": "code",
        "colab": {}
      },
      "source": [
        "wwe_bbs = [[0] for i in range(300)]"
      ],
      "execution_count": 0,
      "outputs": []
    },
    {
      "cell_type": "code",
      "metadata": {
        "id": "T9Q5eLDciL8E",
        "colab_type": "code",
        "colab": {}
      },
      "source": [
        "cluster_all = np.load('/content/drive/My Drive/inv_algo_5.npz', allow_pickle=True)\n",
        "print(cluster_all.files)\n",
        "\n",
        "for k in range(300):\n",
        "  name = 'arr_' + str(k)\n",
        "  c = cluster_all['name']\n",
        "  data_1 = data_all[name]\n",
        "  m = mean_cluster([i for i in range(10000)])\n",
        "  data = [convert_to_v(data_1[i]) for i in range(len(data_1))]\n",
        "  err = np.array([0] * len(c), dtype=np.float64)\n",
        "  w = np.array([0] * len(c), dtype=np.float64)\n",
        "  err = np.array([0] * len(c), dtype=np.float64)\n",
        "  wwe = 0\n",
        "  bbs = 0\n",
        "  for i in range(len(c)):\n",
        "    mean = mean_cluster(c[i])\n",
        "    wwe += len(c[i]) * error(mean, m)\n",
        "    bbs += sse(mean, c[i])\n",
        "  wwe_bbs[k] = [wwe, bbs]\n",
        "  np.save('/content/drive/My Drive/inv_algo_5.npy')"
      ],
      "execution_count": 0,
      "outputs": []
    },
    {
      "cell_type": "code",
      "metadata": {
        "id": "9TCF-R6Znxrn",
        "colab_type": "code",
        "colab": {}
      },
      "source": [
        "cluster_all = np.load('/content/drive/My Drive/e_a_5.npz', allow_pickle=True)\n",
        "print(cluster_all.files)\n",
        "\n",
        "for k in range(300):\n",
        "  name = 'arr_' + str(k)\n",
        "  c = cluster_all['name']\n",
        "  data_1 = data_all[name]\n",
        "  m = mean_cluster([i for i in range(10000)])\n",
        "  data = [convert_to_v(data_1[i]) for i in range(len(data_1))]\n",
        "  err = np.array([0] * len(c), dtype=np.float64)\n",
        "  w = np.array([0] * len(c), dtype=np.float64)\n",
        "  err = np.array([0] * len(c), dtype=np.float64)\n",
        "  wwe = 0\n",
        "  bbs = 0\n",
        "  for i in range(len(c)):\n",
        "    mean = mean_cluster(c[i])\n",
        "    wwe += len(c[i]) * error(mean, m)\n",
        "    bbs += sse(mean, c[i])\n",
        "  wwe_bbs[k] = [wwe, bbs]\n",
        "  np.save('/content/drive/My Drive/e_a_5.npy')"
      ],
      "execution_count": 0,
      "outputs": []
    },
    {
      "cell_type": "code",
      "metadata": {
        "id": "3OJU6SSLlvZz",
        "colab_type": "code",
        "colab": {}
      },
      "source": [
        "cluster_all = np.load('/content/drive/My Drive/e_5.npz', allow_pickle=True)\n",
        "print(cluster_all.files)\n",
        "\n",
        "for k in range(300):\n",
        "  name = 'arr_' + str(k)\n",
        "  c = cluster_all['name']\n",
        "  data_1 = data_all[name]\n",
        "  m = mean_cluster([i for i in range(10000)])\n",
        "  data = [convert_to_v(data_1[i]) for i in range(len(data_1))]\n",
        "  err = np.array([0] * len(c), dtype=np.float64)\n",
        "  w = np.array([0] * len(c), dtype=np.float64)\n",
        "  err = np.array([0] * len(c), dtype=np.float64)\n",
        "  wwe = 0\n",
        "  bbs = 0\n",
        "  for i in range(len(c)):\n",
        "    mean = mean_cluster(c[i])\n",
        "    wwe += len(c[i]) * error(mean, m)\n",
        "    bbs += sse(mean, c[i])\n",
        "  wwe_bbs[k] = [wwe, bbs]\n",
        "  np.save('/content/drive/My Drive/e_5.npy')"
      ],
      "execution_count": 0,
      "outputs": []
    },
    {
      "cell_type": "markdown",
      "metadata": {
        "id": "qcohKeLzeRYK",
        "colab_type": "text"
      },
      "source": [
        "**Download results of clustering 5 feature**"
      ]
    },
    {
      "cell_type": "code",
      "metadata": {
        "id": "7IPd-DhheRFv",
        "colab_type": "code",
        "colab": {}
      },
      "source": [
        "data_all = np.load(\"/content/drive/My Drive/7_feature_300.npz\", allow_pickle=True)\n",
        "data_1 = data_all['arr_0']"
      ],
      "execution_count": 0,
      "outputs": []
    },
    {
      "cell_type": "code",
      "metadata": {
        "id": "SfbCWrEreap5",
        "colab_type": "code",
        "colab": {}
      },
      "source": [
        "cluster_all = np.load('/content/drive/My Drive/e_7.npz', allow_pickle=True)\n",
        "print(cluster_all.files)\n",
        "\n",
        "for k in range(300):\n",
        "  name = 'arr_' + str(k)\n",
        "  c = cluster_all['name']\n",
        "  data_1 = data_all[name]\n",
        "  m = mean_cluster([i for i in range(10000)])\n",
        "  data = [convert_to_v(data_1[i]) for i in range(len(data_1))]\n",
        "  err = np.array([0] * len(c), dtype=np.float64)\n",
        "  w = np.array([0] * len(c), dtype=np.float64)\n",
        "  err = np.array([0] * len(c), dtype=np.float64)\n",
        "  wwe = 0\n",
        "  bbs = 0\n",
        "  for i in range(len(c)):\n",
        "    mean = mean_cluster(c[i])\n",
        "    wwe += len(c[i]) * error(mean, m)\n",
        "    bbs += sse(mean, c[i])\n",
        "  wwe_bbs[k] = [wwe, bbs]\n",
        "  np.save('/content/drive/My Drive/e_7.npy')"
      ],
      "execution_count": 0,
      "outputs": []
    },
    {
      "cell_type": "code",
      "metadata": {
        "id": "QoMfAoqOec4R",
        "colab_type": "code",
        "colab": {}
      },
      "source": [
        "cluster_all = np.load('/content/drive/My Drive/e_a_7.npz', allow_pickle=True)\n",
        "print(cluster_all.files)\n",
        "\n",
        "for k in range(300):\n",
        "  name = 'arr_' + str(k)\n",
        "  c = cluster_all['name']\n",
        "  data_1 = data_all[name]\n",
        "  m = mean_cluster([i for i in range(10000)])\n",
        "  data = [convert_to_v(data_1[i]) for i in range(len(data_1))]\n",
        "  err = np.array([0] * len(c), dtype=np.float64)\n",
        "  w = np.array([0] * len(c), dtype=np.float64)\n",
        "  err = np.array([0] * len(c), dtype=np.float64)\n",
        "  wwe = 0\n",
        "  bbs = 0\n",
        "  for i in range(len(c)):\n",
        "    mean = mean_cluster(c[i])\n",
        "    wwe += len(c[i]) * error(mean, m)\n",
        "    bbs += sse(mean, c[i])\n",
        "  wwe_bbs[k] = [wwe, bbs]\n",
        "  np.save('/content/drive/My Drive/e_a_7.npy')"
      ],
      "execution_count": 0,
      "outputs": []
    },
    {
      "cell_type": "code",
      "metadata": {
        "id": "yrDvKl88egMe",
        "colab_type": "code",
        "colab": {}
      },
      "source": [
        "cluster_all = np.load('/content/drive/My Drive/inv_algo_7.npz', allow_pickle=True)\n",
        "print(cluster_all.files)\n",
        "\n",
        "for k in range(300):\n",
        "  name = 'arr_' + str(k)\n",
        "  c = cluster_all['name']\n",
        "  data_1 = data_all[name]\n",
        "  m = mean_cluster([i for i in range(10000)])\n",
        "  data = [convert_to_v(data_1[i]) for i in range(len(data_1))]\n",
        "  err = np.array([0] * len(c), dtype=np.float64)\n",
        "  w = np.array([0] * len(c), dtype=np.float64)\n",
        "  err = np.array([0] * len(c), dtype=np.float64)\n",
        "  wwe = 0\n",
        "  bbs = 0\n",
        "  for i in range(len(c)):\n",
        "    mean = mean_cluster(c[i])\n",
        "    wwe += len(c[i]) * error(mean, m)\n",
        "    bbs += sse(mean, c[i])\n",
        "  wwe_bbs[k] = [wwe, bbs]\n",
        "  np.save('/content/drive/My Drive/inv_algo_7.npy')"
      ],
      "execution_count": 0,
      "outputs": []
    }
  ]
}