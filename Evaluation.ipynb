{
  "nbformat": 4,
  "nbformat_minor": 0,
  "metadata": {
    "colab": {
      "name": "Evaluation.ipynb",
      "provenance": [],
      "collapsed_sections": []
    },
    "kernelspec": {
      "name": "python3",
      "display_name": "Python 3"
    }
  },
  "cells": [
    {
      "cell_type": "code",
      "metadata": {
        "id": "7YaPb0gT1LYT",
        "colab_type": "code",
        "colab": {}
      },
      "source": [
        "import pandas as pd\n",
        "import numpy as np\n",
        "import zipfile\n",
        "import random\n",
        "from google.colab import files\n",
        "import math"
      ],
      "execution_count": 0,
      "outputs": []
    },
    {
      "cell_type": "code",
      "metadata": {
        "id": "MqIKA4RW1eWG",
        "colab_type": "code",
        "colab": {}
      },
      "source": [
        "import os\n",
        "from pydrive.auth import GoogleAuth\n",
        "from pydrive.drive import GoogleDrive\n",
        "from google.colab import auth\n",
        "from oauth2client.client import GoogleCredentials\n",
        "\n",
        "auth.authenticate_user()\n",
        "gauth = GoogleAuth()\n",
        "gauth.credentials = GoogleCredentials.get_application_default()\n",
        "drive = GoogleDrive(gauth)"
      ],
      "execution_count": 0,
      "outputs": []
    },
    {
      "cell_type": "code",
      "metadata": {
        "id": "47ksKeNI1jhk",
        "colab_type": "code",
        "colab": {}
      },
      "source": [
        "data_all = np.load(\"/content/drive/My Drive/5_feature_300.npz\", allow_pickle=True)\n",
        "data = data_all['arr_1']"
      ],
      "execution_count": 0,
      "outputs": []
    },
    {
      "cell_type": "code",
      "metadata": {
        "id": "bQVw0Bly17oB",
        "colab_type": "code",
        "colab": {}
      },
      "source": [
        "inv_5 = np.load(\"/content/drive/My Drive/inv_algo_5.npy\", allow_pickle=True)\n",
        "eps_5 = np.load(\"/content/drive/My Drive/e_5.npy\", allow_pickle=True)\n",
        "eps_a_5 = np.load(\"/content/drive/My Drive/e_a_5.npy\", allow_pickle=True)\n",
        "\n",
        "inv_7 = np.load(\"/content/drive/My Drive/inv_algo_7.npy\", allow_pickle=True)\n",
        "eps_7 = np.load(\"/content/drive/My Drive/e_7.npy\", allow_pickle=True)\n",
        "eps_a_7 = np.load(\"/content/drive/My Drive/e_a_7.npy\", allow_pickle=True)"
      ],
      "execution_count": 0,
      "outputs": []
    },
    {
      "cell_type": "code",
      "metadata": {
        "id": "1mO9zQYe2IfW",
        "colab_type": "code",
        "outputId": "67e893d7-a3ef-4078-b3e4-bf4483aba844",
        "colab": {
          "base_uri": "https://localhost:8080/",
          "height": 17
        }
      },
      "source": [
        "print(inv_7[0])\n",
        "a = [0] * len(c)\n",
        "for i in range(len(c)):\n",
        "  a[i] = inv_5[i][1] / len(c[i])\n",
        "a = np.array(a)\n",
        "print(np.mean(a))"
      ],
      "execution_count": 0,
      "outputs": [
        {
          "output_type": "stream",
          "text": [
            "[23261359.16759538  1770604.51395408]\n",
            "7824.886232159981\n"
          ],
          "name": "stdout"
        }
      ]
    },
    {
      "cell_type": "code",
      "metadata": {
        "id": "vq6oFEBy2Lqz",
        "colab_type": "code",
        "colab": {}
      },
      "source": [
        "def mean_bbs(arr):\n",
        "  s = 0\n",
        "  for i in range(len(arr)):\n",
        "    s += arr[i][0]\n",
        "  return s / len(arr)\n",
        "\n",
        "def mean_wwe(arr):\n",
        "  s = 0\n",
        "  for i in range(len(arr)):\n",
        "    s += arr[i][1]\n",
        "  return s / len(arr)\n"
      ],
      "execution_count": 0,
      "outputs": []
    },
    {
      "cell_type": "markdown",
      "metadata": {
        "id": "XYowKjSZR_yO",
        "colab_type": "text"
      },
      "source": [
        "**Нормализация признаков**"
      ]
    },
    {
      "cell_type": "code",
      "metadata": {
        "id": "5aelVSPpR_eN",
        "colab_type": "code",
        "colab": {}
      },
      "source": [
        "def l_norm(a):\n",
        "  m = min(a)\n",
        "  ans = a\n",
        "  for i in range(len(a)):\n",
        "    ans[i] = a[i] - m\n",
        "  return ans\n",
        "\n",
        "def convert_to_v(data): #меняет один элемент\n",
        "  v = [0] * (len(data) - 1)\n",
        "  for i in range(len(data) - 1):\n",
        "    k = data[i + 1] - data[i]\n",
        "    b = k * data[i] - k * i\n",
        "#    v[i] = [k, b]\n",
        "    v[i] = k\n",
        "  return v\n",
        "\n",
        "def convert_1 (d):\n",
        "  v = convert_to_v(d)\n",
        "  print(v)\n",
        "  ans = [v[i] * d[i] for i in range(len(d) - 1)]\n",
        "  return ans"
      ],
      "execution_count": 0,
      "outputs": []
    },
    {
      "cell_type": "code",
      "metadata": {
        "id": "ZgbLhOUTUnw3",
        "colab_type": "code",
        "colab": {}
      },
      "source": [
        "data_1_l = np.array([l_norm(data[i]) for i in range(len(data))])"
      ],
      "execution_count": 0,
      "outputs": []
    },
    {
      "cell_type": "code",
      "metadata": {
        "id": "JvYY4kEXYTXj",
        "colab_type": "code",
        "colab": {}
      },
      "source": [
        "def convert_to_v(data): #меняет один элемент\n",
        "  v = [0] * (len(data) - 1)\n",
        "  for i in range(len(data) - 1):\n",
        "    k = data[i + 1] - data[i]\n",
        "    b = (i + 1) * data[i] - i * data[i+1]\n",
        "    v[i] = k\n",
        "  return v\n",
        "\n",
        "def mean_cluster(cl): #массив с индексами\n",
        "  n = len(data[0] - 1) #number of features\n",
        "  a = [0] * n\n",
        "  for i in range(len(cl)):\n",
        "    for j in range(len(a)):\n",
        "      a[j] += data[cl[i]][j]\n",
        "  ans = [a[i] / len(cl) for i in range(n)]\n",
        "  return ans\n",
        "\n",
        "def mean_cluster_1(cl): #массив с индексами\n",
        "  n = 5 #number of features\n",
        "  a = [0] * n\n",
        "  for i in range(len(cl)):\n",
        "    for j in range(len(a)):\n",
        "      a[j] += data_1[cl[i]][j]\n",
        "  ans = [a[i] / len(cl) for i in range(n)]\n",
        "  return ans\n",
        "\n",
        "def error(v1, v2):\n",
        "  d = 0\n",
        "  for i in range(len(v1)):\n",
        "    d += (v1[i] - v2[i]) ** 2\n",
        "  return d\n",
        "\n",
        "def sse(mean, clstr):\n",
        "  err = 0\n",
        "  for i in range(len(clstr)):\n",
        "    err += error(mean, data[clstr[i]])\n",
        "#  return err/len(clstr)\n",
        "  return err"
      ],
      "execution_count": 0,
      "outputs": []
    },
    {
      "cell_type": "code",
      "metadata": {
        "id": "4cIDTFexYsp5",
        "colab_type": "code",
        "colab": {}
      },
      "source": [
        "d = data_all['arr_0']\n",
        "data = np.array([l_norm(d[i]) for i in range(len(d))])"
      ],
      "execution_count": 0,
      "outputs": []
    },
    {
      "cell_type": "code",
      "metadata": {
        "id": "Lc7xneBEgCO7",
        "colab_type": "code",
        "colab": {}
      },
      "source": [
        "\n",
        "for i in range(128)"
      ],
      "execution_count": 0,
      "outputs": []
    },
    {
      "cell_type": "code",
      "metadata": {
        "id": "z5DIrdrfYq4L",
        "colab_type": "code",
        "colab": {}
      },
      "source": [
        "def av_cluster(ind): #индекс кластера в списке кластеров\n",
        "  m = mean_cluster(c[ind])\n",
        "  s = 0\n",
        "  for i in range(len(c[ind])):\n",
        "\n",
        "    s += error(data[c[ind][i]], m)\n",
        "  return math.sqrt(s / len(c[ind]))\n",
        "\n",
        "def another_clusters(ind):\n",
        "  s = 0\n",
        "  m1 = mean_cluster(c[ind])\n",
        "  for i in range(len(c)):\n",
        "      m = mean_cluster(c[i])\n",
        "      s += error(m1, m)\n",
        "  return math.sqrt(s / (len(c) - 1))\n",
        "\n",
        "def s(ind):\n",
        "  return av_cluster(ind)/another_clusters(ind)"
      ],
      "execution_count": 0,
      "outputs": []
    },
    {
      "cell_type": "code",
      "metadata": {
        "id": "iIKMeHQsfeVe",
        "colab_type": "code",
        "colab": {}
      },
      "source": [
        "cluster_all = np.load('/content/drive/My Drive/e_a_5.npz', allow_pickle=True)\n",
        "print(cluster_all.files)\n",
        "S = []\n",
        "for k in range(300):\n",
        "  name = 'arr_' + str(k)\n",
        "  c = cluster_all['name']\n",
        "  data_1 = data_all[name]\n",
        "  s_i = []\n",
        "  for i in range(len(c)):\n",
        "    if s(i) != 0:\n",
        "      s_i.append(s(i))\n",
        "    else:\n",
        "      s_i.append(1)\n",
        "  S.append(s_i)"
      ],
      "execution_count": 0,
      "outputs": []
    },
    {
      "cell_type": "code",
      "metadata": {
        "id": "4dJaqgSJWq1b",
        "colab_type": "code",
        "colab": {}
      },
      "source": [
        "cluster_all = np.load('/content/drive/My Drive/e_5.npz', allow_pickle=True)\n",
        "print(cluster_all.files)\n",
        "S = []\n",
        "for k in range(300):\n",
        "  name = 'arr_' + str(k)\n",
        "  c = cluster_all['name']\n",
        "  data_1 = data_all[name]\n",
        "  s_i = []\n",
        "  for i in range(len(c)):\n",
        "    if s(i) != 0:\n",
        "      s_i.append(s(i))\n",
        "    else:\n",
        "      s_i.append(1)\n",
        "  S.append(s_i)"
      ],
      "execution_count": 0,
      "outputs": []
    },
    {
      "cell_type": "code",
      "metadata": {
        "id": "AIF1lbXWWgLh",
        "colab_type": "code",
        "colab": {}
      },
      "source": [
        "cluster_all = np.load('/content/drive/My Drive/inv_algo_5.npz', allow_pickle=True)\n",
        "print(cluster_all.files)\n",
        "S = []\n",
        "for k in range(300):\n",
        "  name = 'arr_' + str(k)\n",
        "  c = cluster_all['name']\n",
        "  data_1 = data_all[name]\n",
        "  s_i = []\n",
        "  for i in range(len(c)):\n",
        "    if s(i) != 0:\n",
        "      s_i.append(s(i))\n",
        "    else:\n",
        "      s_i.append(1)\n",
        "  S.append(s_i)"
      ],
      "execution_count": 0,
      "outputs": []
    },
    {
      "cell_type": "markdown",
      "metadata": {
        "id": "bmPeMJNnf-Y9",
        "colab_type": "text"
      },
      "source": [
        "**Calculate for 7 features**"
      ]
    },
    {
      "cell_type": "code",
      "metadata": {
        "id": "2PpQ3KQBfrUU",
        "colab_type": "code",
        "colab": {}
      },
      "source": [
        "data_all = np.load(\"/content/drive/My Drive/7_feature_300.npz\", allow_pickle=True)\n",
        "data = data_all['arr_1']"
      ],
      "execution_count": 0,
      "outputs": []
    },
    {
      "cell_type": "code",
      "metadata": {
        "id": "PkiCvxn6YSDa",
        "colab_type": "code",
        "colab": {}
      },
      "source": [
        "cluster_all = np.load('/content/drive/My Drive/inv_algo_7.npz', allow_pickle=True)\n",
        "print(cluster_all.files)\n",
        "S = []\n",
        "for k in range(300):\n",
        "  name = 'arr_' + str(k)\n",
        "  c = cluster_all['name']\n",
        "  data_1 = data_all[name]\n",
        "  s_i = []\n",
        "  for i in range(len(c)):\n",
        "    if s(i) != 0:\n",
        "      s_i.append(s(i))\n",
        "    else:\n",
        "      s_i.append(1)\n",
        "  S.append(s_i)"
      ],
      "execution_count": 0,
      "outputs": []
    },
    {
      "cell_type": "code",
      "metadata": {
        "id": "0UzL9ZeSi75d",
        "colab_type": "code",
        "colab": {}
      },
      "source": [
        "cluster_all = np.load('/content/drive/My Drive/e_a_7.npz', allow_pickle=True)\n",
        "print(cluster_all.files)\n",
        "S = []\n",
        "for k in range(300):\n",
        "  name = 'arr_' + str(k)\n",
        "  c = cluster_all['name']\n",
        "  data_1 = data_all[name]\n",
        "  s_i = []\n",
        "  for i in range(len(c)):\n",
        "    if s(i) != 0:\n",
        "      s_i.append(s(i))\n",
        "    else:\n",
        "      s_i.append(1)\n",
        "  S.append(s_i)"
      ],
      "execution_count": 0,
      "outputs": []
    },
    {
      "cell_type": "code",
      "metadata": {
        "id": "9BaoSFwJXwWT",
        "colab_type": "code",
        "colab": {}
      },
      "source": [
        "cluster_all = np.load('/content/drive/My Drive/e_7.npz', allow_pickle=True)\n",
        "print(cluster_all.files)\n",
        "S = []\n",
        "for k in range(300):\n",
        "  name = 'arr_' + str(k)\n",
        "  c = cluster_all['name']\n",
        "  data_1 = data_all[name]\n",
        "  s_i = []\n",
        "  for i in range(len(c)):\n",
        "    if s(i) != 0:\n",
        "      s_i.append(s(i))\n",
        "    else:\n",
        "      s_i.append(1)\n",
        "  S.append(s_i)"
      ],
      "execution_count": 0,
      "outputs": []
    }
  ]
}