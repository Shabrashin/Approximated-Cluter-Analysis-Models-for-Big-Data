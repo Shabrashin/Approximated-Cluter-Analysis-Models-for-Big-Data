{
  "nbformat": 4,
  "nbformat_minor": 0,
  "metadata": {
    "colab": {
      "name": "Fix_algo.ipynb",
      "provenance": [],
      "collapsed_sections": []
    },
    "kernelspec": {
      "name": "python3",
      "display_name": "Python 3"
    }
  },
  "cells": [
    {
      "cell_type": "markdown",
      "metadata": {
        "id": "wMCZvLAs5bAZ",
        "colab_type": "text"
      },
      "source": [
        "**Разрешение на скачивание больших данных**"
      ]
    },
    {
      "cell_type": "code",
      "metadata": {
        "id": "Nu14myxo5UEt",
        "colab_type": "code",
        "colab": {}
      },
      "source": [
        "import os\n",
        "from pydrive.auth import GoogleAuth\n",
        "from pydrive.drive import GoogleDrive\n",
        "from google.colab import auth\n",
        "from oauth2client.client import GoogleCredentials\n",
        "\n",
        "auth.authenticate_user()\n",
        "gauth = GoogleAuth()\n",
        "gauth.credentials = GoogleCredentials.get_application_default()\n",
        "drive = GoogleDrive(gauth)"
      ],
      "execution_count": 0,
      "outputs": []
    },
    {
      "cell_type": "markdown",
      "metadata": {
        "id": "ufmFY8qW5qih",
        "colab_type": "text"
      },
      "source": [
        "**Библиотеки**"
      ]
    },
    {
      "cell_type": "code",
      "metadata": {
        "id": "Dv7ZJIm65svP",
        "colab_type": "code",
        "colab": {}
      },
      "source": [
        "import pandas as pd\n",
        "import numpy as np\n",
        "import zipfile\n",
        "import random\n",
        "from google.colab import files\n",
        "import math"
      ],
      "execution_count": 0,
      "outputs": []
    },
    {
      "cell_type": "markdown",
      "metadata": {
        "id": "ukzF8UEU52pg",
        "colab_type": "text"
      },
      "source": [
        "**Функции и загрузка массива**"
      ]
    },
    {
      "cell_type": "code",
      "metadata": {
        "id": "gusdR3HQ9R0z",
        "colab_type": "code",
        "colab": {}
      },
      "source": [
        "data_all = np.load('/content/drive/My Drive/7_feature_300.npz')"
      ],
      "execution_count": 0,
      "outputs": []
    },
    {
      "cell_type": "code",
      "metadata": {
        "id": "711vssVG54jv",
        "colab_type": "code",
        "colab": {}
      },
      "source": [
        "def convert_to_r(n):\n",
        "  r = np.arange(len(n) - 1)\n",
        "  for i in range(len(n) - 1):\n",
        "    r[i] = (n[i] < n[i + 1]) + 2 * (n[i] > n[i + 1])\n",
        "  return r\n",
        "\n",
        "def equal(elem, data):\n",
        "  ind = -1\n",
        "  for i in range(len(data)):\n",
        "      if np.array_equal(r_data[data[i][0]], elem):\n",
        "        return i\n",
        "  return ind\n",
        "\n",
        "\n"
      ],
      "execution_count": 0,
      "outputs": []
    },
    {
      "cell_type": "markdown",
      "metadata": {
        "id": "rSjlbID2XC30",
        "colab_type": "text"
      },
      "source": [
        "**Фиксированная паттерн-кластеризация**"
      ]
    },
    {
      "cell_type": "code",
      "metadata": {
        "id": "bn2bm3P-1al4",
        "colab_type": "code",
        "outputId": "31635c92-52dc-43df-8484-fe5eab066215",
        "colab": {
          "base_uri": "https://localhost:8080/",
          "height": 34
        }
      },
      "source": [
        "data_all = np.load(\"/content/drive/My Drive/7_feature_300.npz\")\n",
        "print(len(data_all['arr_0'][0]))"
      ],
      "execution_count": 0,
      "outputs": [
        {
          "output_type": "stream",
          "text": [
            "7\n"
          ],
          "name": "stdout"
        }
      ]
    },
    {
      "cell_type": "code",
      "metadata": {
        "id": "u7XamZQs-1_c",
        "colab_type": "code",
        "colab": {}
      },
      "source": [
        "np.savez('/content/drive/My Drive/fix_algo_7.npz')\n",
        "\n",
        "f = zipfile.ZipFile('/content/drive/My Drive/fix_algo_7.npz', mode='a')\n",
        "\n",
        "for i in range(300):\n",
        "  data = data_all[\"arr_\" + str(i)]\n",
        "  r_data = np.array([convert_to_r(data[i]) for i in range(len(data))])\n",
        "  clusters = [[0]]\n",
        "  for j in range(1, len(r_data)):\n",
        "    if equal(r_data[j], clusters) == -1:\n",
        "      clusters.append([j])\n",
        "    else:\n",
        "      clusters[equal(r_data[j], clusters)].append(j)\n",
        "  c = np.array(clusters)\n",
        "  name = \"arr_\" + str(i) + \".npy\"\n",
        "  np.save(name, c)\n",
        "  f.write(name)\n",
        "  os.remove(name)\n",
        "  print(i)\n",
        "f.close()\n"
      ],
      "execution_count": 0,
      "outputs": []
    },
    {
      "cell_type": "code",
      "metadata": {
        "id": "62HVK91kXgQp",
        "colab_type": "code",
        "colab": {}
      },
      "source": [
        "data_all = np.load(\"/content/drive/My Drive/5_feature_300.npz\")\n",
        "print(len(data_all['arr_0'][0]))"
      ],
      "execution_count": 0,
      "outputs": []
    },
    {
      "cell_type": "code",
      "metadata": {
        "id": "DKT8PTpdXiOC",
        "colab_type": "code",
        "colab": {}
      },
      "source": [
        "np.savez('/content/drive/My Drive/fix_algo_5.npz')\n",
        "\n",
        "f = zipfile.ZipFile('/content/drive/My Drive/fix_algo_7.npz', mode='a')\n",
        "\n",
        "for i in range(300):\n",
        "  data = data_all[\"arr_\" + str(i)]\n",
        "  r_data = np.array([convert_to_r(data[i]) for i in range(len(data))])\n",
        "  clusters = [[0]]\n",
        "  for j in range(1, len(r_data)):\n",
        "    if equal(r_data[j], clusters) == -1:\n",
        "      clusters.append([j])\n",
        "    else:\n",
        "      clusters[equal(r_data[j], clusters)].append(j)\n",
        "  c = np.array(clusters)\n",
        "  name = \"arr_\" + str(i) + \".npy\"\n",
        "  np.save(name, c)\n",
        "  f.write(name)\n",
        "  os.remove(name)\n",
        "  print(i)\n",
        "f.close()\n"
      ],
      "execution_count": 0,
      "outputs": []
    },
    {
      "cell_type": "markdown",
      "metadata": {
        "id": "Cke3le5xa0rO",
        "colab_type": "text"
      },
      "source": [
        "**eps-трубка**"
      ]
    },
    {
      "cell_type": "code",
      "metadata": {
        "id": "f7_zPmD8a33c",
        "colab_type": "code",
        "colab": {}
      },
      "source": [
        "d = random_data(5, 10000)"
      ],
      "execution_count": 0,
      "outputs": []
    },
    {
      "cell_type": "code",
      "metadata": {
        "id": "VhK9kEyTbHXH",
        "colab_type": "code",
        "colab": {}
      },
      "source": [
        "def convert_to_v(data):\n",
        "  v = [0] * (len(data) - 1)\n",
        "  for i in range(len(data) - 1):\n",
        "    k = data[i + 1] - data[i]\n",
        "    b = k * data[i] - k * i\n",
        "    v[i] = [k, b]\n",
        "#    v[i] = k\n",
        "  return v\n",
        "\n",
        "\n",
        "def convert_to_cos(data):\n",
        "  v_c = [cos(data[0][i], v_d[0][i+1]) for i in range(len(data[0]) - 1)]\n",
        "  return v_c\n",
        "\n",
        "def dist(v1, v2): #координаты\n",
        "  a = 0\n",
        "  for i in range(len(v1)):\n",
        "    a += ((v1[i][0] - v2[i][0]) * (v1[i][0] - v2[i][0])) + ((v1[i][1] - v2[i][1]) * (v1[i][1] - v2[i][1]))\n",
        "#    a += ((v1[i] - v2[i]) * (v1[i] - v2[i]))\n",
        "  return math.sqrt(a)\n",
        "\n",
        "def e(alpha, v1, v2):\n",
        "  return math.exp((-1) * alpha * dist(v1, v2))\n",
        "\n",
        "def centroid_cos(d_ind, n):\n",
        "  c = [0] * (n-2)\n",
        "  for i in range(len(d_ind)):\n",
        "    for j in range(n-2):\n",
        "      c[j] += v_cos[d_ind[i]][j]\n",
        "  \n",
        "  for i in range(n-2):\n",
        "      c[i] /= len(d_ind)\n",
        "  return c\n",
        "\n",
        "def centroid(d_ind, n):\n",
        "  c = [0] * n\n",
        "  for i in range(len(d_ind)):\n",
        "    for j in range(n):\n",
        "      c[j] += data[d_ind[i]][j]\n",
        "  \n",
        "  for i in range(n):\n",
        "      c[i] /= len(d_ind)\n",
        "  return c\n",
        "\n",
        "def find_cluster(clstr, point):\n",
        "  for i in range(len(clstr)):\n",
        "    if dist(data[point], data[clstr[i]])"
      ],
      "execution_count": 0,
      "outputs": []
    },
    {
      "cell_type": "code",
      "metadata": {
        "id": "CiPvWFW4M0LL",
        "colab_type": "code",
        "outputId": "93f86ad2-e3fd-41c2-b06c-7776d064a3c6",
        "colab": {
          "base_uri": "https://localhost:8080/",
          "height": 70
        }
      },
      "source": [
        "print(clusters[0])\n",
        "d_ind = clusters[0]\n",
        "print(centroid(clusters[0], 5))"
      ],
      "execution_count": 0,
      "outputs": [
        {
          "output_type": "stream",
          "text": [
            "[0, 2, 390, 535, 589, 1006, 1572, 1756, 2183, 2383, 2411, 3296, 3871, 4171, 4236, 4597, 4665, 4720, 5025, 5371, 5469, 5480, 6177, 6263, 6486, 6547, 6703, 6821, 7497, 7901, 7965, 8069, 8143, 8225, 8272, 8404, 8410, 8849, 9094, 9553, 9897, 9925, 9985]\n",
            "[36.269680585780975, 23.822021647403734, 8.227590396845258, 36.180629887900814, 23.951689386574714]\n"
          ],
          "name": "stdout"
        }
      ]
    },
    {
      "cell_type": "markdown",
      "metadata": {
        "id": "7sE9wxLs4doj",
        "colab_type": "text"
      },
      "source": [
        "**Матрица перебора (Ordinal Invariant Pattern clusterization)**"
      ]
    },
    {
      "cell_type": "code",
      "metadata": {
        "id": "NUXpxtcf4dN-",
        "colab_type": "code",
        "colab": {}
      },
      "source": [
        "def matrix(object):\n",
        "  m = np.zeros((len(object), len(object)))\n",
        "  for i in range(len(object)):\n",
        "    for j in range(len(object)):\n",
        "      m[i][j] = 2 * (object[i] > object[j]) + (object[i] < object[j])\n",
        "  return m\n",
        "\n",
        "def is_equal(elem, data_1):\n",
        "  ind = -1\n",
        "  for i in range(len(data_1)):\n",
        "      if np.array_equal(matrix(data[data_1[i][0]]), matrix(elem)):\n",
        "        return i\n",
        "  return ind\n"
      ],
      "execution_count": 0,
      "outputs": []
    },
    {
      "cell_type": "code",
      "metadata": {
        "id": "bgz-9hbRXnj1",
        "colab_type": "code",
        "colab": {}
      },
      "source": [
        "data_all = np.load(\"/content/drive/My Drive/7_feature_300.npz\")\n",
        "print(len(data_all['arr_0'][0]))"
      ],
      "execution_count": 0,
      "outputs": []
    },
    {
      "cell_type": "code",
      "metadata": {
        "id": "3b60Pgs4NKTC",
        "colab_type": "code",
        "colab": {}
      },
      "source": [
        "np.savez('inv_algo_7')\n",
        "f = zipfile.ZipFile('inv_algo_7.npz', mode='a')\n",
        "\n",
        "for i in range(300):\n",
        "  print(i)\n",
        "  data = data_all[\"arr_\" + str(i)]\n",
        "  clusters = [[0]]\n",
        "  data_m = np.array([matrix(data[i]) for i in range(len(data))])\n",
        "  for j in range(1, len(data_m)):\n",
        "    ind = 0\n",
        "    for k in range(len(clusters)):\n",
        "      if np.array_equal(data_m[j], data_m[clusters[k][0]]):\n",
        "       ind = k\n",
        "       break\n",
        "    if ind:\n",
        "      clusters[ind].append(j)\n",
        "    else:\n",
        "      clusters.append([j])\n",
        "  c = np.array(clusters)\n",
        "  name = \"arr_\" + str(i) + \".npy\"\n",
        "  np.save(name, c)\n",
        "  f.write(name)\n",
        "  os.remove(name)\n",
        "  \n",
        "f.close()"
      ],
      "execution_count": 0,
      "outputs": []
    },
    {
      "cell_type": "code",
      "metadata": {
        "id": "dA5ru-Q7Xp1K",
        "colab_type": "code",
        "colab": {}
      },
      "source": [
        "data_all = np.load(\"/content/drive/My Drive/5_feature_300.npz\")\n",
        "print(len(data_all['arr_0'][0]))"
      ],
      "execution_count": 0,
      "outputs": []
    },
    {
      "cell_type": "code",
      "metadata": {
        "id": "dvJCCGB_ogkV",
        "colab_type": "code",
        "colab": {}
      },
      "source": [
        "np.savez('/content/drive/My Drive/inv_algo_5.npz')\n",
        "f = zipfile.ZipFile('/content/drive/My Drive/inv_algo_5.npz', mode='a')\n",
        "\n",
        "for i in range(300):\n",
        "  print(i)\n",
        "  data = data_all[\"arr_\" + str(i)]\n",
        "  clusters = [[0]]\n",
        "  data_m = np.array([matrix(data[i]) for i in range(len(data))])\n",
        "  for j in range(1, len(data_m)):\n",
        "    ind = 0\n",
        "    for k in range(len(clusters)):\n",
        "      if np.array_equal(data_m[j], data_m[clusters[k][0]]):\n",
        "       ind = k\n",
        "       break\n",
        "    if ind:\n",
        "      clusters[ind].append(j)\n",
        "    else:\n",
        "      clusters.append([j])\n",
        "  c = np.array(clusters)\n",
        "  name = \"arr_\" + str(i) + \".npy\"\n",
        "  np.save(name, c)\n",
        "  f.write(name)\n",
        "  os.remove(name)\n",
        "  \n",
        "f.close()"
      ],
      "execution_count": 0,
      "outputs": []
    },
    {
      "cell_type": "markdown",
      "metadata": {
        "id": "hnucOhy_Y1te",
        "colab_type": "text"
      },
      "source": [
        "**Epsilon tube bsed on angles**"
      ]
    },
    {
      "cell_type": "code",
      "metadata": {
        "id": "sropXGKDY8hM",
        "colab_type": "code",
        "colab": {}
      },
      "source": [
        "from sklearn.cluster import AgglomerativeClustering\n",
        "\n",
        "def sim(x, y): \n",
        "    x1 = convert_to_v(x)\n",
        "    y1 = convert_to_v(y)\n",
        "    return math.exp((-1) * alpha * dist(x1, y1))\n",
        "\n",
        "\n",
        "def sim_affinity(d):\n",
        "    x = [convert_to_v(d[i]) for i in range(len(d))]\n",
        "    c = [0] * len(x)\n",
        "    for i in range(len(x)):\n",
        "      c1 = [0] * len(x)\n",
        "      for j in range(len(x)):\n",
        "        c1[j] = dist(x[i], x[j])\n",
        "      c1 = np.array(c1)\n",
        "      c[i] = c1\n",
        "    c = np.array(c)\n",
        "    return c"
      ],
      "execution_count": 0,
      "outputs": []
    },
    {
      "cell_type": "code",
      "metadata": {
        "id": "LmtmA_2ja_y1",
        "colab_type": "code",
        "colab": {}
      },
      "source": [
        "data_all = np.load(\"/content/drive/My Drive/5_feature_300.npz\")\n",
        "print(len(data_all['arr_0'][0]))"
      ],
      "execution_count": 0,
      "outputs": []
    },
    {
      "cell_type": "code",
      "metadata": {
        "id": "B1sqAGavZzA2",
        "colab_type": "code",
        "colab": {}
      },
      "source": [
        "np.savez('/content/drive/My Drive/e_a_5.npz')\n",
        "f = zipfile.ZipFile('/content/drive/My Drive/e_a_5.npz', mode='a')\n",
        "\n",
        "for i in range(300):\n",
        "  print(i)\n",
        "  name = \"arr_\" + str(i) + \".npy\"\n",
        "  data = data_all[name]\n",
        "  clusters = [[0]]\n",
        "  data_m = np.array([convert_to_v(data[i]) for i in range(len(data))])\n",
        "  k = 2\n",
        "  f = 0\n",
        "  a = []\n",
        "  while k < 10000:\n",
        "    clustering = AgglomerativeClustering(n_clusters=16, affinity=sim_affinity, linkage='average').fit(data)\n",
        "    x = clustering1.labels_\n",
        "    for i in range(k):\n",
        "      c.append(find_c(i, x))\n",
        "    c = np.array(c)\n",
        "    if functional(c) > f:\n",
        "      f = functional(c)\n",
        "      a = c\n",
        "  np.save(name, c)\n",
        "  f.write(name)"
      ],
      "execution_count": 0,
      "outputs": []
    },
    {
      "cell_type": "code",
      "metadata": {
        "id": "rXRF2ktJbAxZ",
        "colab_type": "code",
        "colab": {}
      },
      "source": [
        "data_all = np.load(\"/content/drive/My Drive/7_feature_300.npz\")\n",
        "print(len(data_all['arr_0'][0]))"
      ],
      "execution_count": 0,
      "outputs": []
    },
    {
      "cell_type": "code",
      "metadata": {
        "id": "ecGWe5fxa83I",
        "colab_type": "code",
        "colab": {}
      },
      "source": [
        "np.savez('/content/drive/My Drive/e_a_7.npz')\n",
        "f = zipfile.ZipFile('/content/drive/My Drive/e_a_7.npz', mode='a')\n",
        "\n",
        "for i in range(300):\n",
        "  print(i)\n",
        "  name = \"arr_\" + str(i) + \".npy\"\n",
        "  data = data_all[name]\n",
        "  clusters = [[0]]\n",
        "  data_m = np.array([convert_to_v(data[i]) for i in range(len(data))])\n",
        "  k = 2\n",
        "  f = 0\n",
        "  a = []\n",
        "  while k < 10000:\n",
        "    clustering = AgglomerativeClustering(n_clusters=16, affinity=sim_affinity, linkage='average').fit(data)\n",
        "    x = clustering1.labels_\n",
        "    for i in range(k):\n",
        "      c.append(find_c(i, x))\n",
        "    c = np.array(c)\n",
        "    if functional(c) > f:\n",
        "      f = functional(c)\n",
        "      a = c\n",
        "  np.save(name, c)\n",
        "  f.write(name)"
      ],
      "execution_count": 0,
      "outputs": []
    },
    {
      "cell_type": "markdown",
      "metadata": {
        "id": "E4xESJhhbIOU",
        "colab_type": "text"
      },
      "source": [
        "**Epsilon tube**"
      ]
    },
    {
      "cell_type": "code",
      "metadata": {
        "id": "gL4DuzGDbHBx",
        "colab_type": "code",
        "colab": {}
      },
      "source": [
        "data_all = np.load(\"/content/drive/My Drive/5_feature_300.npz\")\n",
        "print(len(data_all['arr_0'][0]))"
      ],
      "execution_count": 0,
      "outputs": []
    },
    {
      "cell_type": "code",
      "metadata": {
        "id": "zr3Mkgr4bMnE",
        "colab_type": "code",
        "colab": {}
      },
      "source": [
        "np.savez('/content/drive/My Drive/e_7.npz')\n",
        "f = zipfile.ZipFile('/content/drive/My Drive/e_7.npz', mode='a')\n",
        "\n",
        "for i in range(300):\n",
        "  print(i)\n",
        "  name = \"arr_\" + str(i) + \".npy\"\n",
        "  data = data_all[name]\n",
        "  clusters = [[0]]\n",
        "  data_m = np.array([convert_to_v(data[i]) for i in range(len(data))])\n",
        "  k = 2\n",
        "  f = 0\n",
        "  a = []\n",
        "  while k < 10000:\n",
        "    clustering = AgglomerativeClustering(n_clusters=16, affinity=sim_affinity, linkage='average').fit(data)\n",
        "    x = clustering1.labels_\n",
        "    for i in range(k):\n",
        "      c.append(find_c(i, x))\n",
        "    c = np.array(c)\n",
        "    if functional(c) > f:\n",
        "      f = functional(c)\n",
        "      a = c\n",
        "  np.save(name, c)\n",
        "  f.write(name)"
      ],
      "execution_count": 0,
      "outputs": []
    },
    {
      "cell_type": "code",
      "metadata": {
        "id": "CszJ6DuQbUi7",
        "colab_type": "code",
        "colab": {}
      },
      "source": [
        "data_all = np.load(\"/content/drive/My Drive/5_feature_300.npz\")\n",
        "print(len(data_all['arr_0'][0]))"
      ],
      "execution_count": 0,
      "outputs": []
    },
    {
      "cell_type": "code",
      "metadata": {
        "id": "_ni1As_ebXDL",
        "colab_type": "code",
        "colab": {}
      },
      "source": [
        "np.savez('/content/drive/My Drive/e_5.npz')\n",
        "f = zipfile.ZipFile('/content/drive/My Drive/e_5.npz', mode='a')\n",
        "\n",
        "for i in range(300):\n",
        "  print(i)\n",
        "  name = \"arr_\" + str(i) + \".npy\"\n",
        "  data = data_all[name]\n",
        "  clusters = [[0]]\n",
        "  data_m = np.array([convert_to_v(data[i]) for i in range(len(data))]) #другая нормализация\n",
        "  k = 2\n",
        "  f = 0\n",
        "  a = []\n",
        "  while k < 10000:\n",
        "    clustering = AgglomerativeClustering(n_clusters=16, affinity=sim_affinity, linkage='average').fit(data)\n",
        "    x = clustering1.labels_\n",
        "    for i in range(k):\n",
        "      c.append(find_c(i, x))\n",
        "    c = np.array(c)\n",
        "    if functional(c) > f:\n",
        "      f = functional(c)\n",
        "      a = c\n",
        "  np.save(name, c)\n",
        "  f.write(name)"
      ],
      "execution_count": 0,
      "outputs": []
    }
  ]
}
